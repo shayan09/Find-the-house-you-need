{
 "cells": [
  {
   "cell_type": "code",
   "execution_count": 29,
   "metadata": {},
   "outputs": [],
   "source": [
    "import pandas as pd\n",
    "import numpy as np\n",
    "import matplotlib.pyplot as plt"
   ]
  },
  {
   "cell_type": "code",
   "execution_count": 30,
   "metadata": {},
   "outputs": [],
   "source": [
    "train = pd.read_csv(r'housing_train.csv')\n",
    "test = pd.read_csv(r'housing_test.csv')"
   ]
  },
  {
   "cell_type": "code",
   "execution_count": 31,
   "metadata": {},
   "outputs": [
    {
     "data": {
      "text/plain": [
       "(1460, 81)"
      ]
     },
     "execution_count": 31,
     "metadata": {},
     "output_type": "execute_result"
    }
   ],
   "source": [
    "train.shape"
   ]
  },
  {
   "cell_type": "code",
   "execution_count": 32,
   "metadata": {
    "scrolled": true
   },
   "outputs": [
    {
     "data": {
      "text/plain": [
       "Index(['Id', 'MSSubClass', 'MSZoning', 'LotFrontage', 'LotArea', 'Street',\n",
       "       'Alley', 'LotShape', 'LandContour', 'Utilities', 'LotConfig',\n",
       "       'LandSlope', 'Neighborhood', 'Condition1', 'Condition2', 'BldgType',\n",
       "       'HouseStyle', 'OverallQual', 'OverallCond', 'YearBuilt', 'YearRemodAdd',\n",
       "       'RoofStyle', 'RoofMatl', 'Exterior1st', 'Exterior2nd', 'MasVnrType',\n",
       "       'MasVnrArea', 'ExterQual', 'ExterCond', 'Foundation', 'BsmtQual',\n",
       "       'BsmtCond', 'BsmtExposure', 'BsmtFinType1', 'BsmtFinSF1',\n",
       "       'BsmtFinType2', 'BsmtFinSF2', 'BsmtUnfSF', 'TotalBsmtSF', 'Heating',\n",
       "       'HeatingQC', 'CentralAir', 'Electrical', '1stFlrSF', '2ndFlrSF',\n",
       "       'LowQualFinSF', 'GrLivArea', 'BsmtFullBath', 'BsmtHalfBath', 'FullBath',\n",
       "       'HalfBath', 'BedroomAbvGr', 'KitchenAbvGr', 'KitchenQual',\n",
       "       'TotRmsAbvGrd', 'Functional', 'Fireplaces', 'FireplaceQu', 'GarageType',\n",
       "       'GarageYrBlt', 'GarageFinish', 'GarageCars', 'GarageArea', 'GarageQual',\n",
       "       'GarageCond', 'PavedDrive', 'WoodDeckSF', 'OpenPorchSF',\n",
       "       'EnclosedPorch', '3SsnPorch', 'ScreenPorch', 'PoolArea', 'PoolQC',\n",
       "       'Fence', 'MiscFeature', 'MiscVal', 'MoSold', 'YrSold', 'SaleType',\n",
       "       'SaleCondition', 'SalePrice'],\n",
       "      dtype='object')"
      ]
     },
     "execution_count": 32,
     "metadata": {},
     "output_type": "execute_result"
    }
   ],
   "source": [
    "train.columns"
   ]
  },
  {
   "cell_type": "code",
   "execution_count": 33,
   "metadata": {},
   "outputs": [],
   "source": [
    "train['Age'] = train['YrSold'] - train['YearRemodAdd']"
   ]
  },
  {
   "cell_type": "code",
   "execution_count": 34,
   "metadata": {},
   "outputs": [],
   "source": [
    "features = train.columns"
   ]
  },
  {
   "cell_type": "code",
   "execution_count": 35,
   "metadata": {},
   "outputs": [
    {
     "data": {
      "text/plain": [
       "Id                  0\n",
       "KitchenAbvGr        0\n",
       "BedroomAbvGr        0\n",
       "HalfBath            0\n",
       "FullBath            0\n",
       "BsmtHalfBath        0\n",
       "BsmtFullBath        0\n",
       "KitchenQual         0\n",
       "GrLivArea           0\n",
       "2ndFlrSF            0\n",
       "1stFlrSF            0\n",
       "CentralAir          0\n",
       "SalePrice           0\n",
       "Heating             0\n",
       "TotalBsmtSF         0\n",
       "LowQualFinSF        0\n",
       "BsmtUnfSF           0\n",
       "TotRmsAbvGrd        0\n",
       "Fireplaces          0\n",
       "SaleCondition       0\n",
       "SaleType            0\n",
       "YrSold              0\n",
       "MoSold              0\n",
       "MiscVal             0\n",
       "PoolArea            0\n",
       "Functional          0\n",
       "ScreenPorch         0\n",
       "EnclosedPorch       0\n",
       "OpenPorchSF         0\n",
       "WoodDeckSF          0\n",
       "                 ... \n",
       "OverallCond         0\n",
       "Age                 0\n",
       "YearRemodAdd        0\n",
       "Foundation          0\n",
       "ExterCond           0\n",
       "YearBuilt           0\n",
       "Exterior2nd         0\n",
       "Exterior1st         0\n",
       "ExterQual           0\n",
       "RoofMatl            0\n",
       "RoofStyle           0\n",
       "Electrical          1\n",
       "MasVnrType          8\n",
       "MasVnrArea          8\n",
       "BsmtFinType1       37\n",
       "BsmtCond           37\n",
       "BsmtQual           37\n",
       "BsmtFinType2       38\n",
       "BsmtExposure       38\n",
       "GarageYrBlt        81\n",
       "GarageType         81\n",
       "GarageFinish       81\n",
       "GarageCond         81\n",
       "GarageQual         81\n",
       "LotFrontage       259\n",
       "FireplaceQu       690\n",
       "Fence            1179\n",
       "Alley            1369\n",
       "MiscFeature      1406\n",
       "PoolQC           1453\n",
       "Length: 82, dtype: int64"
      ]
     },
     "execution_count": 35,
     "metadata": {},
     "output_type": "execute_result"
    }
   ],
   "source": [
    "train[features].isna().sum().sort_values(ascending=True)"
   ]
  },
  {
   "cell_type": "code",
   "execution_count": 36,
   "metadata": {},
   "outputs": [],
   "source": [
    "train = train.drop(['Id', 'BsmtExposure', 'BsmtFinType1', 'BsmtFinSF1', 'BsmtFinType2', 'BsmtFinSF2', \n",
    "                    'BsmtUnfSF', 'FireplaceQu', 'Fence', 'Alley', 'MiscFeature', 'PoolQC', 'YearBuilt', \n",
    "                    'YearRemodAdd', 'YrSold', ], axis = 1) "
   ]
  },
  {
   "cell_type": "code",
   "execution_count": 53,
   "metadata": {
    "scrolled": false
   },
   "outputs": [
    {
     "data": {
      "text/plain": [
       "Index(['MSSubClass', 'MSZoning', 'LotFrontage', 'LotArea', 'Street',\n",
       "       'LotShape', 'LandContour', 'Utilities', 'LotConfig', 'LandSlope',\n",
       "       'Neighborhood', 'Condition1', 'Condition2', 'BldgType', 'HouseStyle',\n",
       "       'OverallQual', 'OverallCond', 'RoofStyle', 'RoofMatl', 'Exterior1st',\n",
       "       'Exterior2nd', 'MasVnrType', 'MasVnrArea', 'ExterQual', 'ExterCond',\n",
       "       'Foundation', 'BsmtQual', 'BsmtCond', 'TotalBsmtSF', 'Heating',\n",
       "       'HeatingQC', 'CentralAir', 'Electrical', '1stFlrSF', '2ndFlrSF',\n",
       "       'LowQualFinSF', 'GrLivArea', 'BsmtFullBath', 'BsmtHalfBath', 'FullBath',\n",
       "       'HalfBath', 'BedroomAbvGr', 'KitchenAbvGr', 'KitchenQual',\n",
       "       'TotRmsAbvGrd', 'Functional', 'Fireplaces', 'GarageType', 'GarageYrBlt',\n",
       "       'GarageFinish', 'GarageCars', 'GarageArea', 'GarageQual', 'GarageCond',\n",
       "       'PavedDrive', 'WoodDeckSF', 'OpenPorchSF', 'EnclosedPorch', '3SsnPorch',\n",
       "       'ScreenPorch', 'PoolArea', 'MiscVal', 'MoSold', 'YrSold', 'SaleType',\n",
       "       'SaleCondition', 'SalePrice', 'Age'],\n",
       "      dtype='object')"
      ]
     },
     "execution_count": 53,
     "metadata": {},
     "output_type": "execute_result"
    }
   ],
   "source": [
    "train.shape\n",
    "train.columns"
   ]
  },
  {
   "cell_type": "code",
   "execution_count": 54,
   "metadata": {},
   "outputs": [
    {
     "data": {
      "text/plain": [
       "864     25\n",
       "1040    16\n",
       "912     14\n",
       "848     12\n",
       "894     12\n",
       "672     11\n",
       "816      9\n",
       "630      9\n",
       "936      7\n",
       "960      7\n",
       "483      7\n",
       "832      7\n",
       "764      6\n",
       "990      6\n",
       "728      6\n",
       "1056     6\n",
       "840      6\n",
       "882      6\n",
       "1728     6\n",
       "720      6\n",
       "796      5\n",
       "1494     5\n",
       "1422     5\n",
       "520      5\n",
       "1072     5\n",
       "1080     5\n",
       "616      5\n",
       "798      5\n",
       "1236     5\n",
       "958      5\n",
       "        ..\n",
       "1223     1\n",
       "1225     1\n",
       "1229     1\n",
       "1235     1\n",
       "1238     1\n",
       "1240     1\n",
       "1241     1\n",
       "1242     1\n",
       "1090     1\n",
       "1244     1\n",
       "1247     1\n",
       "1248     1\n",
       "1249     1\n",
       "1251     1\n",
       "1256     1\n",
       "1260     1\n",
       "1261     1\n",
       "1265     1\n",
       "1272     1\n",
       "1274     1\n",
       "1279     1\n",
       "1281     1\n",
       "1282     1\n",
       "1283     1\n",
       "1284     1\n",
       "1285     1\n",
       "1287     1\n",
       "1288     1\n",
       "1297     1\n",
       "2053     1\n",
       "Name: 1stFlrSF, Length: 753, dtype: int64"
      ]
     },
     "execution_count": 54,
     "metadata": {},
     "output_type": "execute_result"
    }
   ],
   "source": [
    "train['1stFlrSF'].value_counts()"
   ]
  },
  {
   "cell_type": "code",
   "execution_count": 55,
   "metadata": {},
   "outputs": [],
   "source": [
    "train = train.loc[:, ['LotArea', 'Utilities', 'Neighborhood', 'HouseStyle', 'TotalBsmtSF', 'FullBath',\n",
    "              'OverallQual', 'OverallCond', 'Heating', 'CentralAir', 'GrLivArea',\n",
    "              'KitchenQual', 'GarageArea', 'GarageCars', 'GarageCond', 'SaleType', \n",
    "              'SaleCondition', 'SalePrice', 'Age']]"
   ]
  },
  {
   "cell_type": "code",
   "execution_count": 66,
   "metadata": {},
   "outputs": [
    {
     "data": {
      "text/plain": [
       "0       TA\n",
       "1       TA\n",
       "2       TA\n",
       "3       TA\n",
       "4       TA\n",
       "5       TA\n",
       "6       TA\n",
       "7       TA\n",
       "8       TA\n",
       "9       TA\n",
       "10      TA\n",
       "11      TA\n",
       "12      TA\n",
       "13      TA\n",
       "14      TA\n",
       "15      TA\n",
       "16      TA\n",
       "17      TA\n",
       "18      TA\n",
       "19      TA\n",
       "20      TA\n",
       "21      TA\n",
       "22      TA\n",
       "23      TA\n",
       "24      Gd\n",
       "25      TA\n",
       "26      TA\n",
       "27      TA\n",
       "28      TA\n",
       "29      TA\n",
       "        ..\n",
       "1430    TA\n",
       "1431    TA\n",
       "1432    TA\n",
       "1433    TA\n",
       "1434    TA\n",
       "1435    Gd\n",
       "1436    TA\n",
       "1437    TA\n",
       "1438    TA\n",
       "1439    TA\n",
       "1440    TA\n",
       "1441    TA\n",
       "1442    TA\n",
       "1443    TA\n",
       "1444    TA\n",
       "1445    TA\n",
       "1446    TA\n",
       "1447    TA\n",
       "1448    TA\n",
       "1449    TA\n",
       "1450    TA\n",
       "1451    TA\n",
       "1452    TA\n",
       "1453    TA\n",
       "1454    TA\n",
       "1455    TA\n",
       "1456    TA\n",
       "1457    Gd\n",
       "1458    TA\n",
       "1459    TA\n",
       "Name: ExterCond, Length: 1460, dtype: object"
      ]
     },
     "execution_count": 66,
     "metadata": {},
     "output_type": "execute_result"
    }
   ],
   "source": [
    "train['ExterCond']"
   ]
  },
  {
   "cell_type": "code",
   "execution_count": null,
   "metadata": {},
   "outputs": [],
   "source": []
  }
 ],
 "metadata": {
  "kernelspec": {
   "display_name": "Python 3",
   "language": "python",
   "name": "python3"
  },
  "language_info": {
   "codemirror_mode": {
    "name": "ipython",
    "version": 3
   },
   "file_extension": ".py",
   "mimetype": "text/x-python",
   "name": "python",
   "nbconvert_exporter": "python",
   "pygments_lexer": "ipython3",
   "version": "3.6.0"
  }
 },
 "nbformat": 4,
 "nbformat_minor": 2
}
